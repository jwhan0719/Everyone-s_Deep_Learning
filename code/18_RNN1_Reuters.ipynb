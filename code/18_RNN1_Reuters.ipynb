{
 "cells": [
  {
   "cell_type": "code",
   "execution_count": 2,
   "metadata": {},
   "outputs": [
    {
     "name": "stdout",
     "output_type": "stream",
     "text": [
      "========== 데이터 확인 ==========\n",
      "카테고리 개수 : 46\n",
      "학습용 뉴스 기사 개수 : 8982\n",
      "테스트용 뉴스 기사 개수 : 2246\n",
      "\n",
      " ========== 딥러닝 시작 ==========\n",
      "Epoch 1/20\n",
      "90/90 [==============================] - 17s 155ms/step - loss: 2.5634 - acc: 0.3657 - val_loss: 2.1718 - val_acc: 0.4862\n",
      "Epoch 2/20\n",
      "90/90 [==============================] - 13s 149ms/step - loss: 2.0450 - acc: 0.4930 - val_loss: 1.9885 - val_acc: 0.5142\n",
      "Epoch 3/20\n",
      "90/90 [==============================] - 13s 144ms/step - loss: 1.9348 - acc: 0.5148 - val_loss: 1.8647 - val_acc: 0.5356\n",
      "Epoch 4/20\n",
      "90/90 [==============================] - 13s 147ms/step - loss: 1.7168 - acc: 0.5630 - val_loss: 1.6986 - val_acc: 0.5579\n",
      "Epoch 5/20\n",
      "90/90 [==============================] - 13s 144ms/step - loss: 1.6669 - acc: 0.5705 - val_loss: 1.6624 - val_acc: 0.5815\n",
      "Epoch 6/20\n",
      "90/90 [==============================] - 13s 145ms/step - loss: 1.5843 - acc: 0.6019 - val_loss: 1.6179 - val_acc: 0.5944\n",
      "Epoch 7/20\n",
      "90/90 [==============================] - 13s 145ms/step - loss: 1.5454 - acc: 0.6188 - val_loss: 1.6057 - val_acc: 0.5957\n",
      "Epoch 8/20\n",
      "90/90 [==============================] - 13s 141ms/step - loss: 1.4736 - acc: 0.6367 - val_loss: 1.5587 - val_acc: 0.6153\n",
      "Epoch 9/20\n",
      "90/90 [==============================] - 13s 139ms/step - loss: 1.4040 - acc: 0.6548 - val_loss: 1.5151 - val_acc: 0.6140\n",
      "Epoch 10/20\n",
      "90/90 [==============================] - 12s 137ms/step - loss: 1.5991 - acc: 0.5996 - val_loss: 1.4952 - val_acc: 0.6296\n",
      "Epoch 11/20\n",
      "90/90 [==============================] - 12s 135ms/step - loss: 1.3464 - acc: 0.6622 - val_loss: 1.4184 - val_acc: 0.6420\n",
      "Epoch 12/20\n",
      "90/90 [==============================] - 10s 107ms/step - loss: 1.2585 - acc: 0.6843 - val_loss: 1.3657 - val_acc: 0.6518\n",
      "Epoch 13/20\n",
      "90/90 [==============================] - 10s 108ms/step - loss: 1.1950 - acc: 0.6976 - val_loss: 1.3302 - val_acc: 0.6581\n",
      "Epoch 14/20\n",
      "90/90 [==============================] - 10s 107ms/step - loss: 1.1497 - acc: 0.7065 - val_loss: 1.3019 - val_acc: 0.6612\n",
      "Epoch 15/20\n",
      "90/90 [==============================] - 11s 119ms/step - loss: 1.1083 - acc: 0.7145 - val_loss: 1.2942 - val_acc: 0.6803\n",
      "Epoch 16/20\n",
      "90/90 [==============================] - 12s 138ms/step - loss: 1.0565 - acc: 0.7320 - val_loss: 1.2771 - val_acc: 0.6772\n",
      "Epoch 17/20\n",
      "90/90 [==============================] - 13s 139ms/step - loss: 1.0178 - acc: 0.7426 - val_loss: 1.2454 - val_acc: 0.6825\n",
      "Epoch 18/20\n",
      "90/90 [==============================] - 12s 139ms/step - loss: 0.9840 - acc: 0.7470 - val_loss: 1.2571 - val_acc: 0.6817\n",
      "Epoch 19/20\n",
      "90/90 [==============================] - 13s 139ms/step - loss: 0.9481 - acc: 0.7573 - val_loss: 1.2375 - val_acc: 0.6915\n",
      "Epoch 20/20\n",
      "90/90 [==============================] - 13s 142ms/step - loss: 0.9060 - acc: 0.7675 - val_loss: 1.2750 - val_acc: 0.6763\n",
      "71/71 [==============================] - 2s 26ms/step - loss: 1.2750 - acc: 0.6763\n",
      "\n",
      " Test Accuracy: 0.6763\n"
     ]
    },
    {
     "data": {
      "image/png": "[encoded data removed]",
      "text/plain": [
       "<Figure size 432x288 with 1 Axes>"
      ]
     },
     "metadata": {
      "needs_background": "light"
     },
     "output_type": "display_data"
    }
   ],
   "source": [
    "import numpy as np\n",
    "import matplotlib.pyplot as plt\n",
    "\n",
    "import tensorflow as tf\n",
    "import tensorflow.keras.utils as np_utils\n",
    "from tensorflow.keras.datasets import reuters\n",
    "from tensorflow.keras.preprocessing import sequence\n",
    "from tensorflow.keras.models import Sequential\n",
    "from tensorflow.keras.layers import Dense, LSTM, Embedding\n",
    "\n",
    "import warnings\n",
    "warnings.filterwarnings('ignore')\n",
    "\n",
    "seed = 0\n",
    "np.random.seed(seed)\n",
    "tf.random.set_seed(seed)\n",
    "\n",
    "# 빈도수 1000위 안에 해당하는 단어만 호출\n",
    "(X_train, y_train), (X_test, y_test) = reuters.load_data(num_words=1000, test_split=0.2)\n",
    "\n",
    "# 데이터 확인\n",
    "category = np.max(y_train) + 1\n",
    "print('='*10,'데이터 확인', '='*10)\n",
    "print('카테고리 개수 :', category)\n",
    "print('학습용 뉴스 기사 개수 :', len(X_train))\n",
    "print('테스트용 뉴스 기사 개수 :', len(X_test))\n",
    "\n",
    "# 단어 수가 100보다 클 경우 100개째 단어만 선택하고 나머지는 제외, 100개 단어에 모자를 경우 모자른 부분을 모두 0으로 대체\n",
    "X_train = sequence.pad_sequences(X_train, maxlen=100)\n",
    "X_test = sequence.pad_sequences(X_test, maxlen=100)\n",
    "\n",
    "# y 데이터 원-핫 인코딩 처리\n",
    "y_train = np_utils.to_categorical(y_train)\n",
    "y_test = np_utils.to_categorical(y_test)\n",
    "\n",
    "\n",
    "# Embedding : 입력된 값을 받아 다음 층이 알아들을 수 있는 형태로 변환 역할, 모델 설정 맨 처음에 위치\n",
    "# Embedding(불러온 단어의 총 개수, 기사당 단어 수)\n",
    "# LSTM : 한층 안에서 반복을 많은 RNN의 단점인 일반 신경망보다 기울기소실 문제가 더 많이 발생하는점을 보완, RNN에서 기억 값에 대한 가중치 제어\n",
    "# LSTM(기사당 단어 수, 기타 옵션)\n",
    "print('\\n', '='*10,'딥러닝 시작', '='*10)\n",
    "\n",
    "model = Sequential()\n",
    "model.add(Embedding(1000, 100))\n",
    "model.add(LSTM(100, activation='tanh'))\n",
    "model.add(Dense(46, activation='softmax'))\n",
    "\n",
    "model.compile(loss='categorical_crossentropy', optimizer='adam', metrics=['acc'])\n",
    "\n",
    "hist = model.fit(X_train, y_train, batch_size=100, epochs=20, validation_data=(X_test, y_test))\n",
    "\n",
    "print('\\n Test Accuracy: %.4f' % (model.evaluate(X_test, y_test)[1]))\n",
    "\n",
    "y_loss = hist.history['loss']\n",
    "y_vloss = hist.history['val_loss']\n",
    "\n",
    "x_len = np.arange(len(y_loss))\n",
    "plt.plot(x_len, y_loss, marker='.', c='blue', label='Trainset_loss')\n",
    "plt.plot(x_len, y_vloss, marker='.', c='red', label='Testset_loss')\n",
    "\n",
    "plt.legend(loc='upper right')\n",
    "plt.grid()\n",
    "plt.xlabel('epoch')\n",
    "plt.ylabel('loss')\n",
    "plt.show()"
   ]
  },
  {
   "cell_type": "code",
   "execution_count": null,
   "metadata": {},
   "outputs": [],
   "source": []
  }
 ],
 "metadata": {
  "kernelspec": {
   "display_name": "Python 3.8.10 64-bit",
   "language": "python",
   "name": "python3"
  },
  "language_info": {
   "codemirror_mode": {
    "name": "ipython",
    "version": 3
   },
   "file_extension": ".py",
   "mimetype": "text/x-python",
   "name": "python",
   "nbconvert_exporter": "python",
   "pygments_lexer": "ipython3",
   "version": "3.8.10"
  },
  "orig_nbformat": 4,
  "vscode": {
   "interpreter": {
    "hash": "31f2aee4e71d21fbe5cf8b01ff0e069b9275f58929596ceb00d14d90e3e16cd6"
   }
  }
 },
 "nbformat": 4,
 "nbformat_minor": 2
}
