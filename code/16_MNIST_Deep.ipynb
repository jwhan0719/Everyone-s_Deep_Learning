{
 "cells": [
  {
   "cell_type": "code",
   "execution_count": 2,
   "metadata": {},
   "outputs": [
    {
     "name": "stdout",
     "output_type": "stream",
     "text": [
      "\n",
      "Epoch 00001: val_loss improved from inf to 0.05700, saving model to ../model/16/01_0.0570.hdf5\n",
      "\n",
      "Epoch 00002: val_loss improved from 0.05700 to 0.04298, saving model to ../model/16/02_0.0430.hdf5\n",
      "\n",
      "Epoch 00003: val_loss improved from 0.04298 to 0.03592, saving model to ../model/16/03_0.0359.hdf5\n",
      "\n",
      "Epoch 00004: val_loss improved from 0.03592 to 0.03347, saving model to ../model/16/04_0.0335.hdf5\n",
      "\n",
      "Epoch 00005: val_loss improved from 0.03347 to 0.02834, saving model to ../model/16/05_0.0283.hdf5\n",
      "\n",
      "Epoch 00006: val_loss improved from 0.02834 to 0.02710, saving model to ../model/16/06_0.0271.hdf5\n",
      "\n",
      "Epoch 00007: val_loss improved from 0.02710 to 0.02565, saving model to ../model/16/07_0.0257.hdf5\n",
      "\n",
      "Epoch 00008: val_loss did not improve from 0.02565\n",
      "\n",
      "Epoch 00009: val_loss did not improve from 0.02565\n",
      "\n",
      "Epoch 00010: val_loss did not improve from 0.02565\n",
      "\n",
      "Epoch 00011: val_loss did not improve from 0.02565\n",
      "\n",
      "Epoch 00012: val_loss did not improve from 0.02565\n",
      "\n",
      "Epoch 00013: val_loss did not improve from 0.02565\n",
      "\n",
      "Epoch 00014: val_loss did not improve from 0.02565\n",
      "\n",
      "Epoch 00015: val_loss did not improve from 0.02565\n",
      "\n",
      "Epoch 00016: val_loss did not improve from 0.02565\n",
      "\n",
      "Epoch 00017: val_loss did not improve from 0.02565\n",
      "313/313 [==============================] - 1s 3ms/step - loss: 0.0295 - acc: 0.9927\n",
      "\n",
      " Test Accuracy: 0.9927\n"
     ]
    },
    {
     "data": {
      "image/png": "[encoded data removed]",
      "text/plain": [
       "<Figure size 432x288 with 1 Axes>"
      ]
     },
     "metadata": {
      "needs_background": "light"
     },
     "output_type": "display_data"
    }
   ],
   "source": [
    "import os\n",
    "import numpy as np\n",
    "import matplotlib.pyplot as plt\n",
    "\n",
    "import tensorflow as tf\n",
    "import tensorflow.keras.utils as np_utils\n",
    "from tensorflow.keras.models import Sequential\n",
    "from tensorflow.keras.layers import Dense, Dropout, Flatten, Conv2D, MaxPooling2D\n",
    "from tensorflow.keras.datasets import mnist\n",
    "from tensorflow.keras.callbacks import ModelCheckpoint, EarlyStopping\n",
    "\n",
    "import warnings\n",
    "warnings.filterwarnings('ignore')\n",
    "\n",
    "seed = 0\n",
    "np.random.seed(seed)\n",
    "tf.random.set_seed(seed)\n",
    "\n",
    "(X_train, y_train), (X_test, y_test) = mnist.load_data()\n",
    "\n",
    "X_train = X_train.reshape(X_train.shape[0], 28, 28, 1).astype('float32') / 255\n",
    "X_test = X_test.reshape(X_test.shape[0], 28, 28, 1).astype('float32') / 255\n",
    "\n",
    "y_train = np_utils.to_categorical(y_train)\n",
    "y_test = np_utils.to_categorical(y_test)\n",
    "\n",
    "\n",
    "# 컨볼루션[합성곱] 신경망(CNN)\n",
    "# 입력된 이미지에서 다시 한번 특징 추출 위해 마스크(필터, 윈도 또는 커널)를 도입하는 기법\n",
    "# 컨볼루션 층 추가 함수 : Conv2D()\n",
    "    # 첫번째 인자 : 마스크 몇개 적용\n",
    "    # 두번째 인자 : 마스크(커널) 크기 설정, kernel_size=(행, 열)\n",
    "    # 세번째 인자 : Dense 층과 마찬가지로 맨 처음 층에 입력되는 값 설정, input_shape(행, 열, 색상[3] 또는 흑백[1])\n",
    "    # 네번째 인자 : 활성화 함수 정의\n",
    "model = Sequential()\n",
    "model.add(Conv2D(32, kernel_size=(3, 3), input_shape=(28, 28, 1), activation='relu'))\n",
    "model.add(Conv2D(64, (3, 3), activation='relu'))\n",
    "\n",
    "# 맥스 풀링 : 정해진 구역 안에서 가장 큰 값만 다음 층으로 넘기고 나머지 제외\n",
    "# pool_size : 풀링 창 크기 정하는 것, 2로 정하면 전체 크기 절반으로 줄어듬\n",
    "model.add(MaxPooling2D(pool_size=2))\n",
    "\n",
    "# 드롭 아웃 : 은닉층에 배치된 노드 중 일부를 임의로 꺼주는 것\n",
    "# 플래튼 : 1차원 배열 변환\n",
    "# 컨볼루션 층이나 맥스 풀링은 주어진 이미지를 2차원 배열인 채로 다루므로, Dense()함수를 이용하기 위해서는 1차원 배열로 변환해야함\n",
    "model.add(Dropout(0.25))\n",
    "model.add(Flatten())\n",
    "\n",
    "model.add(Dense(128, activation='relu'))\n",
    "model.add(Dropout(0.5))\n",
    "model.add(Dense(10, activation='softmax'))\n",
    "\n",
    "model.compile(loss='categorical_crossentropy', optimizer='adam', metrics=['acc'])\n",
    "\n",
    "\n",
    "MODEL_DIR = '../model/16/'\n",
    "\n",
    "if not os.path.exists(MODEL_DIR):\n",
    "    os.mkdir(MODEL_DIR)   \n",
    "\n",
    "modelpath = '../model/16/{epoch:02d}_{val_loss:.4f}.hdf5'\n",
    "\n",
    "\n",
    "checkpointer = ModelCheckpoint(filepath=modelpath, monitor='val_loss', verbose=1, save_best_only=True)\n",
    "early_stopping_callbacks = EarlyStopping(monitor='val_loss', patience=10)\n",
    "\n",
    "hist = model.fit(X_train, y_train, validation_data=(X_test, y_test),\n",
    "                 epochs=30, batch_size=200, verbose=0,\n",
    "                 callbacks=[early_stopping_callbacks, checkpointer]\n",
    ")\n",
    "\n",
    "print('\\n Test Accuracy: %.4f' % (model.evaluate(X_test, y_test)[1]))\n",
    "\n",
    "\n",
    "y_loss = hist.history['loss']\n",
    "y_vloss = hist.history['val_loss']\n",
    "\n",
    "x_len = np.arange(len(y_loss))\n",
    "\n",
    "plt.plot(x_len, y_loss, marker='.', c='blue', label='Trainset_loss')\n",
    "plt.plot(x_len, y_vloss, marker='.', c='red', label='Testset_loss')\n",
    "\n",
    "plt.legend(loc='upper right')\n",
    "plt.grid()\n",
    "plt.xlabel('epochs')\n",
    "plt.ylabel('loss')\n",
    "plt.show()\n"
   ]
  },
  {
   "cell_type": "code",
   "execution_count": null,
   "metadata": {},
   "outputs": [],
   "source": []
  }
 ],
 "metadata": {
  "kernelspec": {
   "display_name": "Python 3.8.10 64-bit",
   "language": "python",
   "name": "python3"
  },
  "language_info": {
   "codemirror_mode": {
    "name": "ipython",
    "version": 3
   },
   "file_extension": ".py",
   "mimetype": "text/x-python",
   "name": "python",
   "nbconvert_exporter": "python",
   "pygments_lexer": "ipython3",
   "version": "3.8.10"
  },
  "orig_nbformat": 4,
  "vscode": {
   "interpreter": {
    "hash": "31f2aee4e71d21fbe5cf8b01ff0e069b9275f58929596ceb00d14d90e3e16cd6"
   }
  }
 },
 "nbformat": 4,
 "nbformat_minor": 2
}
