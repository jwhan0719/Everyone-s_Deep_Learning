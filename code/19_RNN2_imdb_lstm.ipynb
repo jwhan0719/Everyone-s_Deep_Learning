{
 "cells": [
  {
   "cell_type": "code",
   "execution_count": 2,
   "metadata": {},
   "outputs": [
    {
     "name": "stdout",
     "output_type": "stream",
     "text": [
      "Model: \"sequential_1\"\n",
      "_________________________________________________________________\n",
      "Layer (type)                 Output Shape              Param #   \n",
      "=================================================================\n",
      "embedding_1 (Embedding)      (None, None, 100)         500000    \n",
      "_________________________________________________________________\n",
      "dropout_1 (Dropout)          (None, None, 100)         0         \n",
      "_________________________________________________________________\n",
      "conv1d_1 (Conv1D)            (None, None, 64)          32064     \n",
      "_________________________________________________________________\n",
      "max_pooling1d_1 (MaxPooling1 (None, None, 64)          0         \n",
      "_________________________________________________________________\n",
      "lstm_1 (LSTM)                (None, 55)                26400     \n",
      "_________________________________________________________________\n",
      "dense_1 (Dense)              (None, 1)                 56        \n",
      "_________________________________________________________________\n",
      "activation_1 (Activation)    (None, 1)                 0         \n",
      "=================================================================\n",
      "Total params: 558,520\n",
      "Trainable params: 558,520\n",
      "Non-trainable params: 0\n",
      "_________________________________________________________________\n",
      "Epoch 1/5\n",
      "250/250 [==============================] - 10s 35ms/step - loss: 0.4557 - acc: 0.7650 - val_loss: 0.3313 - val_acc: 0.8532\n",
      "Epoch 2/5\n",
      "250/250 [==============================] - 8s 33ms/step - loss: 0.2915 - acc: 0.8772 - val_loss: 0.3240 - val_acc: 0.8582\n",
      "Epoch 3/5\n",
      "250/250 [==============================] - 8s 34ms/step - loss: 0.2477 - acc: 0.8995 - val_loss: 0.3453 - val_acc: 0.8532\n",
      "Epoch 4/5\n",
      "250/250 [==============================] - 8s 34ms/step - loss: 0.2120 - acc: 0.9173 - val_loss: 0.3566 - val_acc: 0.8533\n",
      "Epoch 5/5\n",
      "250/250 [==============================] - 8s 33ms/step - loss: 0.1785 - acc: 0.9321 - val_loss: 0.3511 - val_acc: 0.8542\n",
      "782/782 [==============================] - 4s 5ms/step - loss: 0.3511 - acc: 0.8542\n",
      "\n",
      "Accuracy: 0.8542\n"
     ]
    },
    {
     "data": {
      "image/png": "[encoded data removed]",
      "text/plain": [
       "<Figure size 432x288 with 1 Axes>"
      ]
     },
     "metadata": {
      "needs_background": "light"
     },
     "output_type": "display_data"
    }
   ],
   "source": [
    "import numpy as np\n",
    "import matplotlib.pyplot as plt\n",
    "\n",
    "import tensorflow as tf\n",
    "from tensorflow.keras.datasets import imdb\n",
    "from tensorflow.keras.preprocessing import sequence\n",
    "from tensorflow.keras.models import Sequential\n",
    "from tensorflow.keras.layers import Dense, LSTM, Embedding, Dropout, Conv1D, MaxPooling1D, Activation\n",
    "\n",
    "import warnings\n",
    "warnings.filterwarnings('ignore')\n",
    "\n",
    "seed = 0\n",
    "np.random.seed(seed)\n",
    "tf.random.set_seed(seed)\n",
    "\n",
    "# 빈도수 5000위 안에 해당하는 단어만 호출\n",
    "(X_train, y_train), (X_test, y_test) = imdb.load_data(num_words=5000)\n",
    "\n",
    "# 단어 개수 100개로 제한\n",
    "X_train = sequence.pad_sequences(X_train, maxlen=100)\n",
    "X_test = sequence.pad_sequences(X_test, maxlen=100)\n",
    "\n",
    "# Conv1D : Conv2D 개념을 1차원으로 변환된 함수, 컨볼루션 층과 이동 배열도 1차원\n",
    "    # padding : 패딩 방법 지정, valid는 패딩 값이 없음을 의미\n",
    "    # strides : 적용할 스트라이드 값으로 정수/정수의 리스트/튜플 형태로 지정, 1이 아닌 값 지정시 dilation_rate는 1 이외의 값 지정 못함\n",
    "# MaxPooling1D : 2차원 배열이 1차원으로 바뀌어 정해진 구역 안에서 갖아 큰 값은 다음 층으로 넘기고 나머지는 제외\n",
    "model = Sequential()\n",
    "model.add(Embedding(5000, 100))\n",
    "model.add(Dropout(0.5))\n",
    "model.add(Conv1D(64, 5, padding='valid', activation='relu', strides=1))\n",
    "model.add(MaxPooling1D(pool_size=4))\n",
    "model.add(LSTM(55))\n",
    "model.add(Dense(1))\n",
    "model.add(Activation('sigmoid'))\n",
    "model.summary()\n",
    "model.compile(loss='binary_crossentropy', optimizer='adam', metrics=['acc'])\n",
    "hist = model.fit(X_train, y_train, batch_size=100, epochs=5, validation_data=(X_test, y_test))\n",
    "\n",
    "print('\\nAccuracy: %.4f' % (model.evaluate(X_test, y_test)[1]))\n",
    "\n",
    "y_loss = hist.history['loss']\n",
    "y_vloss = hist.history['val_loss']\n",
    "\n",
    "x_len = np.arange(len(y_loss))\n",
    "\n",
    "plt.plot(x_len, y_loss, marker='.', c=\"blue\", label='Trainset_loss')\n",
    "plt.plot(x_len, y_vloss, marker='.', c=\"red\", label='Testset_loss')\n",
    "\n",
    "plt.legend(loc='upper right')\n",
    "plt.grid()\n",
    "plt.xlabel('epoch')\n",
    "plt.ylabel('loss')\n",
    "plt.show()\n"
   ]
  },
  {
   "cell_type": "code",
   "execution_count": null,
   "metadata": {},
   "outputs": [],
   "source": []
  }
 ],
 "metadata": {
  "kernelspec": {
   "display_name": "Python 3.8.10 64-bit",
   "language": "python",
   "name": "python3"
  },
  "language_info": {
   "codemirror_mode": {
    "name": "ipython",
    "version": 3
   },
   "file_extension": ".py",
   "mimetype": "text/x-python",
   "name": "python",
   "nbconvert_exporter": "python",
   "pygments_lexer": "ipython3",
   "version": "3.8.10"
  },
  "orig_nbformat": 4,
  "vscode": {
   "interpreter": {
    "hash": "31f2aee4e71d21fbe5cf8b01ff0e069b9275f58929596ceb00d14d90e3e16cd6"
   }
  }
 },
 "nbformat": 4,
 "nbformat_minor": 2
}
